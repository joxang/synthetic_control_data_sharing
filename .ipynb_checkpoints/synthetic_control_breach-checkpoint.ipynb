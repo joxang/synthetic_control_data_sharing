{
 "cells": [
  {
   "cell_type": "code",
   "execution_count": null,
   "id": "e99f0ec6",
   "metadata": {},
   "outputs": [],
   "source": [
    "import warnings\n",
    "warnings.filterwarnings('ignore')\n",
    "\n",
    "import pandas as pd\n",
    "import numpy as np\n",
    "import statsmodels.formula.api as smf\n",
    "\n",
    "import time\n",
    "\n",
    "from collections import Counter\n",
    "from datetime import datetime\n",
    "%matplotlib inline"
   ]
  },
  {
   "cell_type": "code",
   "execution_count": null,
   "id": "afb7004e",
   "metadata": {},
   "outputs": [],
   "source": [
    "from tqdm.notebook import tqdm"
   ]
  },
  {
   "cell_type": "markdown",
   "id": "6c410f93",
   "metadata": {},
   "source": [
    "## analysis file"
   ]
  },
  {
   "cell_type": "code",
   "execution_count": null,
   "id": "306f7eeb",
   "metadata": {},
   "outputs": [],
   "source": [
    "analysisdf = pd.read_csv('data/paneldata.csv', index_col=0)\n",
    "analysisdf.head(50)"
   ]
  },
  {
   "cell_type": "markdown",
   "id": "bbfd8c14",
   "metadata": {},
   "source": [
    "## trusts exposed in 2016"
   ]
  },
  {
   "cell_type": "code",
   "execution_count": null,
   "id": "6331937e",
   "metadata": {},
   "outputs": [],
   "source": [
    "all_exposed = list(set(analysisdf[analysisdf[\"scr_year\"]==2016]['trust_code'].to_list()))\n",
    "all_exposed"
   ]
  },
  {
   "cell_type": "markdown",
   "id": "c4e38386",
   "metadata": {},
   "source": [
    "## acute district general hospitals subgroup"
   ]
  },
  {
   "cell_type": "code",
   "execution_count": null,
   "id": "e37109a2",
   "metadata": {
    "scrolled": true
   },
   "outputs": [],
   "source": [
    "target_types = [\"ACUTE - DGH\"]\n",
    "\n",
    "target_trusts = list(set(analysisdf[analysisdf[\"trust_type\"].isin(target_types)]['trust_code'].to_list()))\n",
    "other_trusts = list(set(analysisdf[~analysisdf[\"trust_type\"].isin(target_types)]['trust_code'].to_list()))\n",
    "\n",
    "analysisdf_target = analysisdf[analysisdf[\"trust_type\"].isin(target_types)]\n",
    "analysisdf_other = analysisdf[~analysisdf[\"trust_type\"].isin(target_types)]"
   ]
  },
  {
   "cell_type": "code",
   "execution_count": null,
   "id": "818c5c21",
   "metadata": {},
   "outputs": [],
   "source": [
    "def common_items(list1, list2):\n",
    "    overlap = [item for item in list1 if item in list2]\n",
    "    return overlap\n",
    "\n",
    "exposed_target = common_items(target_trusts, all_exposed)\n",
    "\n",
    "## included in analysis\n",
    "print('cases:')\n",
    "print(exposed_target)\n",
    "print(len(exposed_target))"
   ]
  },
  {
   "cell_type": "code",
   "execution_count": null,
   "id": "c1014e22",
   "metadata": {
    "scrolled": true
   },
   "outputs": [],
   "source": [
    "exposed_placebo = target_trusts.copy()\n",
    "\n",
    "for x in exposed_target:\n",
    "    exposed_placebo.remove(x)\n",
    "    \n",
    "print('controls:')\n",
    "print(exposed_placebo)\n",
    "print(len(exposed_placebo))"
   ]
  },
  {
   "cell_type": "code",
   "execution_count": null,
   "id": "6e82ea26",
   "metadata": {},
   "outputs": [],
   "source": [
    "analysisdf_placebo = analysisdf_target[analysisdf_target['trust_code'].isin(exposed_placebo)]"
   ]
  },
  {
   "cell_type": "markdown",
   "id": "4f379ac4",
   "metadata": {},
   "source": [
    "## synthetic control"
   ]
  },
  {
   "cell_type": "code",
   "execution_count": null,
   "id": "6837c64a",
   "metadata": {},
   "outputs": [],
   "source": [
    "from SyntheticControlMethods import Synth, DiffSynth"
   ]
  },
  {
   "cell_type": "code",
   "execution_count": null,
   "id": "f8cd89f8",
   "metadata": {},
   "outputs": [],
   "source": [
    "def to_seconds(date):\n",
    "    return time.mktime(date.timetuple())"
   ]
  },
  {
   "cell_type": "code",
   "execution_count": null,
   "id": "8b6f8861",
   "metadata": {},
   "outputs": [],
   "source": [
    "dates = analysisdf[analysisdf['trust_code'] == exposed_target[0]]['date'].to_list()\n",
    "\n",
    "yvar = 'breach_%_type1'\n",
    "xvar1 = 'ae_scaled'\n",
    "xvar2 = 'occupied_%_general'\n",
    "xvar3 = 'inpatient_%_casemix'\n",
    "xvar4 = 'deprivation_q1_q2'\n",
    "xvar5 = 'nurses_per_bed'\n",
    "\n",
    "features = ['trust_code', 'date', yvar, xvar1, xvar2, xvar3, xvar4, xvar5]"
   ]
  },
  {
   "cell_type": "markdown",
   "id": "3abb3136",
   "metadata": {},
   "source": [
    "## exposed units"
   ]
  },
  {
   "cell_type": "code",
   "execution_count": null,
   "id": "767e3dc1",
   "metadata": {
    "scrolled": false
   },
   "outputs": [],
   "source": [
    "exposed_group = exposed_target\n",
    "dataset = analysisdf_target\n",
    "\n",
    "for x in tqdm(exposed_group):\n",
    "    \n",
    "    treatment_trust = []\n",
    "    treatment_trust.append(x)\n",
    "    \n",
    "    remaining_exposed_group = list((Counter(exposed_group) - Counter(treatment_trust)).elements())\n",
    "    single_exposed_case = dataset[~dataset['trust_code'].isin(remaining_exposed_group)]\n",
    "    \n",
    "    syntheticdf = single_exposed_case[features]\n",
    "    \n",
    "    syntheticdf['date'] = pd.to_datetime(syntheticdf['date'])\n",
    "\n",
    "    syntheticdf['seconds'] = syntheticdf['date'].apply(lambda x: to_seconds(x))\n",
    "    \n",
    "    syntheticdf.drop(['date'], axis=1, inplace=True)\n",
    "    \n",
    "    syntheticdf['trust_code'] = syntheticdf['trust_code'].astype(str)\n",
    "    syntheticdf['seconds'] = syntheticdf['seconds'].astype(int)\n",
    "\n",
    "    sc = Synth(syntheticdf, yvar, \"trust_code\", \"seconds\", 1483142400, treatment_trust[0], n_optim=25, pen=\"auto\")\n",
    "    #2016-12-31 = 1483142400\n",
    "\n",
    "    sc.in_space_placebo(25)\n",
    "    \n",
    "    ###########################WEIGHTS AND FIT############################\n",
    "    sc.original_data.weight_df.to_csv('outcomes/weights/{}.csv'.format(x))\n",
    "    sc.original_data.rmspe_df.to_csv('outcomes/rmspe/{}.csv'.format(x))    \n",
    "    ######################################################################\n",
    "    \n",
    "    synth_outcomes = sc.original_data.synth_outcome[0].tolist()\n",
    "\n",
    "    exposed_outcomes = []\n",
    "    treated_outcomes = sc.original_data.treated_outcome_all    \n",
    "    \n",
    "    for y in range(0, len(treated_outcomes)):\n",
    "        exposed_outcomes.append(treated_outcomes[y][0].round(6))\n",
    "\n",
    "    treated_v_synth = pd.DataFrame(list(zip(dates, exposed_outcomes, synth_outcomes)), columns =['date', 'exposed', 'synth'])\n",
    "    treated_v_synth['difference'] = treated_v_synth['exposed'] - treated_v_synth['synth']\n",
    "    \n",
    "    ############################OUTCOME VARIABLE#####################\n",
    "    treated_v_synth.to_csv('outcomes/treat_v_synth/{}.csv'.format(x))\n",
    "    #################################################################\n",
    "\n",
    "    treatment_effect = pd.DataFrame((dates), columns =['date'])\n",
    "    treatment_effect['exposed'] = treated_v_synth['difference']\n",
    "\n",
    "    for z in range(0,len(sc.original_data.in_space_placebos)):\n",
    "        treatment_effect[z] = sc.original_data.in_space_placebos[z]\n",
    "        treatment_effect.rename(columns = {z:sc.original_data.control_units.tolist()[z]}, inplace=True)\n",
    "    \n",
    "    ##########################TREATMENT EFFECT###########################\n",
    "    treatment_effect.to_csv('outcomes/treatment_effect/{}.csv'.format(x))\n",
    "    #####################################################################"
   ]
  },
  {
   "cell_type": "markdown",
   "id": "8512af80",
   "metadata": {},
   "source": [
    "## placebo units "
   ]
  },
  {
   "cell_type": "code",
   "execution_count": null,
   "id": "dee0e866",
   "metadata": {
    "scrolled": false
   },
   "outputs": [],
   "source": [
    "exposed_group = exposed_placebo\n",
    "dataset = analysisdf_placebo\n",
    "\n",
    "for x in tqdm(exposed_group):\n",
    "    \n",
    "    treatment_trust = []\n",
    "    treatment_trust.append(x)\n",
    "    \n",
    "    placebo_cases = dataset[~dataset['trust_code'].isin(exposed_target)]\n",
    "    \n",
    "    syntheticdf = placebo_cases[features]\n",
    "    \n",
    "    syntheticdf['date'] = pd.to_datetime(syntheticdf['date'])\n",
    "\n",
    "    syntheticdf['seconds'] = syntheticdf['date'].apply(lambda x: to_seconds(x))\n",
    "    \n",
    "    syntheticdf.drop(['date'], axis=1, inplace=True)\n",
    "    \n",
    "    syntheticdf['trust_code'] = syntheticdf['trust_code'].astype(str)\n",
    "    syntheticdf['seconds'] = syntheticdf['seconds'].astype(int)\n",
    "    \n",
    "    sc = Synth(syntheticdf, yvar, \"trust_code\", \"seconds\", 1483142400, treatment_trust[0], n_optim=25, pen=\"auto\") \n",
    "    #2016-12-31 = 1483142400\n",
    "\n",
    "    sc.in_space_placebo(25)\n",
    "    \n",
    "    ##############################WEIGHTS AND FIT##################################\n",
    "    sc.original_data.weight_df.to_csv('outcomes/weights_placebo/{}.csv'.format(x))\n",
    "    sc.original_data.rmspe_df.to_csv('outcomes/rmspe_placebo/{}.csv'.format(x))\n",
    "    ###############################################################################\n",
    "    \n",
    "    synth_outcomes = sc.original_data.synth_outcome[0].tolist()\n",
    "\n",
    "    exposed_outcomes = []\n",
    "    treated_outcomes = sc.original_data.treated_outcome_all    \n",
    "    \n",
    "    for y in range(0, len(treated_outcomes)):\n",
    "        exposed_outcomes.append(treated_outcomes[y][0].round(6))\n",
    "\n",
    "    treated_v_synth = pd.DataFrame(list(zip(dates, exposed_outcomes, synth_outcomes)), columns =['date', 'exposed', 'synth'])\n",
    "    treated_v_synth['difference'] = treated_v_synth['exposed'] - treated_v_synth['synth']\n",
    "    \n",
    "    #############################OUTCOME VARIABLE#############################\n",
    "    treated_v_synth.to_csv('outcomes/treat_v_synth_placebo/{}.csv'.format(x))\n",
    "    ##########################################################################\n",
    "    \n",
    "\n",
    "    treatment_effect = pd.DataFrame((dates), columns =['date'])\n",
    "    treatment_effect['exposed'] = treated_v_synth['difference']\n",
    "\n",
    "    for z in range(0,len(sc.original_data.in_space_placebos)):\n",
    "        treatment_effect[z] = sc.original_data.in_space_placebos[z]\n",
    "        treatment_effect.rename(columns = {z:sc.original_data.control_units.tolist()[z]}, inplace=True)\n",
    "    \n",
    "    ###############################TREATMENT EFFECT################################\n",
    "    treatment_effect.to_csv('outcomes/treatment_effect_placebo/{}.csv'.format(x))\n",
    "    ###############################################################################"
   ]
  },
  {
   "cell_type": "markdown",
   "id": "e2a7fae0",
   "metadata": {},
   "source": [
    "#### timelookup\n",
    "\n",
    "{1398812400.0: Timestamp('2014-04-30 00:00:00'),\n",
    " 1401490800.0: Timestamp('2014-05-31 00:00:00'),\n",
    " 1404082800.0: Timestamp('2014-06-30 00:00:00'),\n",
    " 1406761200.0: Timestamp('2014-07-31 00:00:00'),\n",
    " 1409439600.0: Timestamp('2014-08-31 00:00:00'),\n",
    " 1412031600.0: Timestamp('2014-09-30 00:00:00'),\n",
    " 1414713600.0: Timestamp('2014-10-31 00:00:00'),\n",
    " 1417305600.0: Timestamp('2014-11-30 00:00:00'),\n",
    " 1419984000.0: Timestamp('2014-12-31 00:00:00'),\n",
    " 1422662400.0: Timestamp('2015-01-31 00:00:00'),\n",
    " 1425081600.0: Timestamp('2015-02-28 00:00:00'),\n",
    " 1427756400.0: Timestamp('2015-03-31 00:00:00'),\n",
    " 1430348400.0: Timestamp('2015-04-30 00:00:00'),\n",
    " 1433026800.0: Timestamp('2015-05-31 00:00:00'),\n",
    " 1435618800.0: Timestamp('2015-06-30 00:00:00'),\n",
    " 1438297200.0: Timestamp('2015-07-31 00:00:00'),\n",
    " 1440975600.0: Timestamp('2015-08-31 00:00:00'),\n",
    " 1443567600.0: Timestamp('2015-09-30 00:00:00'),\n",
    " 1446249600.0: Timestamp('2015-10-31 00:00:00'),\n",
    " 1448841600.0: Timestamp('2015-11-30 00:00:00'),\n",
    " 1451520000.0: Timestamp('2015-12-31 00:00:00'),\n",
    " 1454198400.0: Timestamp('2016-01-31 00:00:00'),\n",
    " 1456704000.0: Timestamp('2016-02-29 00:00:00'),\n",
    " 1459378800.0: Timestamp('2016-03-31 00:00:00'),\n",
    " 1461970800.0: Timestamp('2016-04-30 00:00:00'),\n",
    " 1464649200.0: Timestamp('2016-05-31 00:00:00'),\n",
    " 1467241200.0: Timestamp('2016-06-30 00:00:00'),\n",
    " 1469919600.0: Timestamp('2016-07-31 00:00:00'),\n",
    " 1472598000.0: Timestamp('2016-08-31 00:00:00'),\n",
    " 1475190000.0: Timestamp('2016-09-30 00:00:00'),\n",
    " 1477872000.0: Timestamp('2016-10-31 00:00:00'),\n",
    " 1480464000.0: Timestamp('2016-11-30 00:00:00'),\n",
    " 1483142400.0: Timestamp('2016-12-31 00:00:00'),\n",
    " 1485820800.0: Timestamp('2017-01-31 00:00:00'),\n",
    " 1488240000.0: Timestamp('2017-02-28 00:00:00'),\n",
    " 1490914800.0: Timestamp('2017-03-31 00:00:00'),\n",
    " 1493506800.0: Timestamp('2017-04-30 00:00:00'),\n",
    " 1496185200.0: Timestamp('2017-05-31 00:00:00'),\n",
    " 1498777200.0: Timestamp('2017-06-30 00:00:00'),\n",
    " 1501455600.0: Timestamp('2017-07-31 00:00:00'),\n",
    " 1504134000.0: Timestamp('2017-08-31 00:00:00'),\n",
    " 1506726000.0: Timestamp('2017-09-30 00:00:00'),\n",
    " 1509408000.0: Timestamp('2017-10-31 00:00:00'),\n",
    " 1512000000.0: Timestamp('2017-11-30 00:00:00'),\n",
    " 1514678400.0: Timestamp('2017-12-31 00:00:00'),\n",
    " 1517356800.0: Timestamp('2018-01-31 00:00:00'),\n",
    " 1519776000.0: Timestamp('2018-02-28 00:00:00'),\n",
    " 1522450800.0: Timestamp('2018-03-31 00:00:00'),\n",
    " 1525042800.0: Timestamp('2018-04-30 00:00:00'),\n",
    " 1527721200.0: Timestamp('2018-05-31 00:00:00'),\n",
    " 1530313200.0: Timestamp('2018-06-30 00:00:00'),\n",
    " 1532991600.0: Timestamp('2018-07-31 00:00:00'),\n",
    " 1535670000.0: Timestamp('2018-08-31 00:00:00'),\n",
    " 1538262000.0: Timestamp('2018-09-30 00:00:00'),\n",
    " 1540944000.0: Timestamp('2018-10-31 00:00:00'),\n",
    " 1543536000.0: Timestamp('2018-11-30 00:00:00'),\n",
    " 1546214400.0: Timestamp('2018-12-31 00:00:00'),\n",
    " 1548892800.0: Timestamp('2019-01-31 00:00:00'),\n",
    " 1551312000.0: Timestamp('2019-02-28 00:00:00'),\n",
    " 1553990400.0: Timestamp('2019-03-31 00:00:00'),\n",
    " 1556578800.0: Timestamp('2019-04-30 00:00:00'),\n",
    " 1559257200.0: Timestamp('2019-05-31 00:00:00'),\n",
    " 1561849200.0: Timestamp('2019-06-30 00:00:00'),\n",
    " 1564527600.0: Timestamp('2019-07-31 00:00:00'),\n",
    " 1567206000.0: Timestamp('2019-08-31 00:00:00')}\n"
   ]
  }
 ],
 "metadata": {
  "kernelspec": {
   "display_name": "Python 3 (ipykernel)",
   "language": "python",
   "name": "python3"
  },
  "language_info": {
   "codemirror_mode": {
    "name": "ipython",
    "version": 3
   },
   "file_extension": ".py",
   "mimetype": "text/x-python",
   "name": "python",
   "nbconvert_exporter": "python",
   "pygments_lexer": "ipython3",
   "version": "3.9.13"
  }
 },
 "nbformat": 4,
 "nbformat_minor": 5
}
